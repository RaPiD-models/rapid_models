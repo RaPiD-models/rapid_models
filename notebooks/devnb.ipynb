{
 "cells": [
  {
   "cell_type": "code",
   "execution_count": 52,
   "metadata": {},
   "outputs": [
    {
     "name": "stdout",
     "output_type": "stream",
     "text": [
      "The autoreload extension is already loaded. To reload it, use:\n",
      "  %reload_ext autoreload\n"
     ]
    }
   ],
   "source": [
    "# Load the autoreload extension\n",
    "%load_ext autoreload\n",
    "\n",
    "# Autoreload reloads modules before executing code\n",
    "# 0: disable\n",
    "# 1: reload modules imported with %aimport\n",
    "# 2: reload all modules, except those excluded by %aimport\n",
    "%autoreload 2\n",
    "\n",
    "import os, sys\n",
    "sys.path.append('..\\\\src')\n",
    "\n",
    "import numpy as np"
   ]
  },
  {
   "cell_type": "code",
   "execution_count": 53,
   "metadata": {},
   "outputs": [],
   "source": [
    "import rapid_models.doe as doe"
   ]
  },
  {
   "cell_type": "code",
   "execution_count": 54,
   "metadata": {},
   "outputs": [
    {
     "data": {
      "text/plain": [
       "array([[0.1, 0.1, 0.1],\n",
       "       [0.5, 0.1, 0.1],\n",
       "       [0.9, 0.1, 0.1],\n",
       "       [0.1, 0.5, 0.1],\n",
       "       [0.5, 0.5, 0.1],\n",
       "       [0.9, 0.5, 0.1],\n",
       "       [0.1, 0.9, 0.1],\n",
       "       [0.5, 0.9, 0.1],\n",
       "       [0.9, 0.9, 0.1],\n",
       "       [0.1, 0.1, 1.2],\n",
       "       [0.5, 0.1, 1.2],\n",
       "       [0.9, 0.1, 1.2],\n",
       "       [0.1, 0.5, 1.2],\n",
       "       [0.5, 0.5, 1.2],\n",
       "       [0.9, 0.5, 1.2],\n",
       "       [0.1, 0.9, 1.2],\n",
       "       [0.5, 0.9, 1.2],\n",
       "       [0.9, 0.9, 1.2]])"
      ]
     },
     "execution_count": 54,
     "metadata": {},
     "output_type": "execute_result"
    }
   ],
   "source": [
    "doe.fullfact_with_bounds([0.1,0.1,0.1], [0.9,0.9,1.2], [3,3,2])"
   ]
  },
  {
   "cell_type": "code",
   "execution_count": 55,
   "metadata": {},
   "outputs": [
    {
     "data": {
      "text/plain": [
       "array([[0.87826211, 0.64077301],\n",
       "       [0.66596549, 0.55465368],\n",
       "       [0.48303066, 0.84914402],\n",
       "       [0.76432373, 0.59553222],\n",
       "       [0.60303707, 0.82075917],\n",
       "       [0.36776451, 0.78187605],\n",
       "       [0.70224771, 0.15070476],\n",
       "       [0.11997547, 0.41839519],\n",
       "       [0.26309779, 0.21498637],\n",
       "       [0.19237301, 0.48311491],\n",
       "       [0.8039826 , 0.43132475],\n",
       "       [0.54289292, 0.70620596],\n",
       "       [0.3453928 , 0.30619606],\n",
       "       [0.46439694, 0.18526179],\n",
       "       [0.21498766, 0.3510972 ]])"
      ]
     },
     "execution_count": 55,
     "metadata": {},
     "output_type": "execute_result"
    }
   ],
   "source": [
    "doe.lhs_with_bounds(2,15,[0.1,0.1],[0.9,0.9],42)"
   ]
  },
  {
   "cell_type": "code",
   "execution_count": 56,
   "metadata": {},
   "outputs": [],
   "source": [
    "import rapid_models.doe.adaptive_learning as doe_al"
   ]
  },
  {
   "cell_type": "code",
   "execution_count": 79,
   "metadata": {},
   "outputs": [
    {
     "data": {
      "text/plain": [
       "(array([[  75,  150,  225,  300,  375],\n",
       "        [ 150,  300,  450,  600,  750],\n",
       "        [ 225,  450,  675,  900, 1125],\n",
       "        [ 300,  600,  900, 1200, 1500],\n",
       "        [ 375,  750, 1125, 1500, 1875]]),\n",
       " array([  75,  300,  675, 1200, 1875]))"
      ]
     },
     "execution_count": 79,
     "metadata": {},
     "output_type": "execute_result"
    }
   ],
   "source": [
    "a=[[1,1,1,1,1],[2,2,2,2,2],[3,3,3,3,3],[4,4,4,4,4],[5,5,5,5,5]]\n",
    "b=[[1,1,1,1,1],[2,2,2,2,2],[3,3,3,3,3],[4,4,4,4,4],[5,5,5,5,5]]\n",
    "doe_al.dotdot_a_b_aT(a,b), doe_al.dotdot_a_b_aT_for_row_in_a(a,b)"
   ]
  },
  {
   "cell_type": "code",
   "execution_count": 67,
   "metadata": {},
   "outputs": [
    {
     "data": {
      "text/plain": [
       "array([[0.46801072, 0.63612499, 0.650138  , 0.55902029, 0.42190429],\n",
       "       [0.59139145, 0.46608505, 0.61187578, 0.20994744, 0.83283306],\n",
       "       [0.09525889, 0.63521055, 0.28400509, 0.66720956, 0.16712869],\n",
       "       [0.03719893, 0.24647395, 0.4142921 , 0.50168728, 0.73524437],\n",
       "       [0.91184504, 0.41756648, 0.39882623, 0.92629532, 0.2814989 ]])"
      ]
     },
     "execution_count": 67,
     "metadata": {},
     "output_type": "execute_result"
    }
   ],
   "source": [
    "np.random.random((5,5))"
   ]
  },
  {
   "cell_type": "markdown",
   "metadata": {},
   "source": [
    "LB.shape"
   ]
  },
  {
   "cell_type": "code",
   "execution_count": 43,
   "metadata": {},
   "outputs": [
    {
     "data": {
      "text/plain": [
       "array('string', dtype='<U6')"
      ]
     },
     "execution_count": 43,
     "metadata": {},
     "output_type": "execute_result"
    }
   ],
   "source": [
    "LB"
   ]
  },
  {
   "cell_type": "code",
   "execution_count": null,
   "metadata": {},
   "outputs": [],
   "source": []
  }
 ],
 "metadata": {
  "interpreter": {
   "hash": "d56933113f0a68bae4e07b41a4ddeee2ef36c87a3fd8e121505162822ba9d043"
  },
  "kernelspec": {
   "display_name": "Python 3.8.7 64-bit ('env': venv)",
   "language": "python",
   "name": "python3"
  },
  "language_info": {
   "codemirror_mode": {
    "name": "ipython",
    "version": 3
   },
   "file_extension": ".py",
   "mimetype": "text/x-python",
   "name": "python",
   "nbconvert_exporter": "python",
   "pygments_lexer": "ipython3",
   "version": "3.8.7"
  },
  "orig_nbformat": 4
 },
 "nbformat": 4,
 "nbformat_minor": 2
}
