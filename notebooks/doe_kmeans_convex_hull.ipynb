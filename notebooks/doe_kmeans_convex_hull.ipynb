{
 "cells": [
  {
   "cell_type": "code",
   "execution_count": null,
   "metadata": {},
   "outputs": [],
   "source": [
    "# Load the autoreload extension\n",
    "%load_ext autoreload\n",
    "\n",
    "# Autoreload reloads modules before executing code\n",
    "# 0: disable\n",
    "# 1: reload modules imported with %aimport\n",
    "# 2: reload all modules, except those excluded by %aimport\n",
    "%autoreload 2\n",
    "!pip install rapid_models"
   ]
  },
  {
   "cell_type": "code",
   "execution_count": null,
   "metadata": {},
   "outputs": [],
   "source": [
    "import numpy as np\n",
    "import scipy as sp\n",
    "import plotly\n",
    "import plotly.graph_objs as go\n",
    "\n",
    "# Import rapid_models DOE packages\n",
    "import rapid_models.doe as doe\n"
   ]
  },
  {
   "cell_type": "code",
   "execution_count": null,
   "metadata": {},
   "outputs": [],
   "source": [
    "# Create small lhs to identify points which in_hull method should use as hull basis\n",
    "lhs = doe.lhs_with_bounds(nDim=2, nSamples=20, LBs=[0,0], UBs=[10,5], random_state=42)\n"
   ]
  },
  {
   "cell_type": "code",
   "execution_count": null,
   "metadata": {},
   "outputs": [],
   "source": [
    "# Create functions of upper and lower bounds (LBs and UBs)\n",
    "f_ub1 = lambda x: 1/3*x + 2\n",
    "f_ub2 = lambda x: -1/2*x + 6\n",
    "f_lb1 = lambda x: -2*x + 6\n",
    "f_lb2 = lambda x: 1/10*x + 0\n",
    "\n",
    "x=np.linspace(0,10,21)\n",
    "\n",
    "ub1=f_ub1(x)\n",
    "ub2=f_ub2(x)\n",
    "lb1=f_lb1(x)\n",
    "lb2=f_lb2(x)"
   ]
  },
  {
   "cell_type": "code",
   "execution_count": null,
   "metadata": {},
   "outputs": [],
   "source": [
    "# Filter out lhs lower than UBs and larger than LBs\n",
    "flt_def = (lhs[:,1]<f_ub1(lhs[:,0])) & (lhs[:,1]<f_ub2(lhs[:,0])) & (lhs[:,1]>f_lb1(lhs[:,0])) & (lhs[:,1]>f_lb2(lhs[:,0]))"
   ]
  },
  {
   "cell_type": "code",
   "execution_count": null,
   "metadata": {},
   "outputs": [],
   "source": [
    "# Create larger LHS to test in_hull method on\n",
    "lhs2 = doe.lhs_with_bounds(nDim=2, nSamples=50, LBs=[0,0], UBs=[10,5], random_state=47)"
   ]
  },
  {
   "cell_type": "code",
   "execution_count": null,
   "metadata": {},
   "outputs": [],
   "source": [
    "flt_inhull=doe.in_hull(lhs2, lhs[flt_def])"
   ]
  },
  {
   "cell_type": "code",
   "execution_count": null,
   "metadata": {},
   "outputs": [],
   "source": [
    "# Plot all\n",
    "fig = go.Figure()\n",
    "\n",
    "fig.add_scatter(x=lhs[:,0], y=lhs[:,1], name='lhs',\n",
    "  showlegend=True, mode='markers',\n",
    "  marker={'color':'blue','size':5},\n",
    ")\n",
    "fig.add_scatter(x=lhs[flt_def,0], y=lhs[flt_def,1], name='pts_def_hull',\n",
    "  showlegend=True, mode='markers',\n",
    "  marker={'color':'red','size':5},\n",
    ")\n",
    "\n",
    "\n",
    "q=0\n",
    "for k,ys in {'ub1':ub1, 'ub2':ub2, 'lb1':lb1, 'lb2':lb2}.items():\n",
    "  fig.add_scatter(x=x, y=ys, name=k,\n",
    "    showlegend=True, mode='lines',\n",
    "    \n",
    "  )\n",
    "\n",
    "fig.add_scatter(x=lhs2[:,0], y=lhs2[:,1], name='lhs2',\n",
    "  showlegend=True, mode='markers',\n",
    "  marker={'color':'black','size':2},\n",
    ")\n",
    "fig.add_scatter(x=lhs2[flt_inhull,0], y=lhs2[flt_inhull,1], name='in_hull',\n",
    "  showlegend=True, mode='markers',\n",
    "  marker={'color':'orange','size':3},\n",
    ")\n",
    "\n",
    "\n",
    "fig.update_layout(height=500, width=900,\n",
    "  xaxis={'range':[0,10], 'tick0':0, 'dtick':1, 'showgrid':True, 'gridcolor':'lightgrey', 'zeroline':True, 'zerolinecolor':'gray'},\n",
    "  yaxis={'range':[0,5], 'tick0':0, 'dtick':1, 'showgrid':True, 'gridcolor':'lightgrey', 'zeroline':True, 'zerolinecolor':'gray'},\n",
    "  plot_bgcolor='rgba(0,0,0,0)'\n",
    ")"
   ]
  },
  {
   "cell_type": "code",
   "execution_count": null,
   "metadata": {},
   "outputs": [],
   "source": [
    "f_inside_circ = lambda x,y,x0,y0,r: (x-x0)**2 + (y-y0)**2 < r**2\n",
    "\n",
    "x0,y0,r=3.5,2.4,2.1\n",
    "\n",
    "t=np.linspace(0,2*np.pi, 20)\n",
    "\n",
    "x_circ = x0 + r*np.cos(t)\n",
    "y_circ = y0 + r*np.sin(t)\n",
    "\n",
    "flt_def_circ = [f_inside_circ(x,y,x0,y0,r) for x,y in lhs]\n",
    "\n",
    "flt_inhull_circ=doe.in_hull(lhs2, lhs[flt_def_circ])\n"
   ]
  },
  {
   "cell_type": "code",
   "execution_count": null,
   "metadata": {},
   "outputs": [],
   "source": [
    "# Plot all\n",
    "fig = go.Figure()\n",
    "\n",
    "fig.add_scatter(x=lhs[:,0], y=lhs[:,1], name='lhs',\n",
    "  showlegend=True, mode='markers',\n",
    "  marker={'color':'blue','size':5},\n",
    ")\n",
    "fig.add_scatter(x=lhs[flt_def_circ,0], y=lhs[flt_def_circ,1], name='pts_def_circ_hull',\n",
    "  showlegend=True, mode='markers',\n",
    "  marker={'color':'red','size':5},\n",
    ")\n",
    "\n",
    "fig.add_scatter(x=x_circ, y=y_circ, name='circel',\n",
    "  showlegend=True, mode='lines',\n",
    "  line={'color':'magenta'}\n",
    ")\n",
    "\n",
    "fig.add_scatter(x=lhs2[:,0], y=lhs2[:,1], name='lhs2',\n",
    "  showlegend=True, mode='markers',\n",
    "  marker={'color':'black','size':2},\n",
    ")\n",
    "fig.add_scatter(x=lhs2[flt_inhull_circ,0], y=lhs2[flt_inhull_circ,1], name='in_hull',\n",
    "  showlegend=True, mode='markers',\n",
    "  marker={'color':'orange','size':3},\n",
    ")\n",
    "\n",
    "\n",
    "fig.update_layout(height=500, width=900,\n",
    "  xaxis={'range':[0,10], 'tick0':0, 'dtick':1, 'showgrid':True, 'gridcolor':'lightgrey', 'zeroline':True, 'zerolinecolor':'gray'},\n",
    "  yaxis={'range':[0,5], 'tick0':0, 'dtick':1, 'showgrid':True, 'gridcolor':'lightgrey', 'zeroline':True, 'zerolinecolor':'gray'},\n",
    "  plot_bgcolor='rgba(0,0,0,0)'\n",
    ")"
   ]
  },
  {
   "cell_type": "code",
   "execution_count": null,
   "metadata": {},
   "outputs": [],
   "source": []
  }
 ],
 "metadata": {
  "kernelspec": {
   "display_name": "env",
   "language": "python",
   "name": "python3"
  },
  "language_info": {
   "codemirror_mode": {
    "name": "ipython",
    "version": 3
   },
   "file_extension": ".py",
   "mimetype": "text/x-python",
   "name": "python",
   "nbconvert_exporter": "python",
   "pygments_lexer": "ipython3",
   "version": "3.8.7"
  },
  "orig_nbformat": 4,
  "vscode": {
   "interpreter": {
    "hash": "564fcb6917f3c34b110f809386a42929c31c7c88d097bfdfdae7b480363a0b80"
   }
  }
 },
 "nbformat": 4,
 "nbformat_minor": 2
}
