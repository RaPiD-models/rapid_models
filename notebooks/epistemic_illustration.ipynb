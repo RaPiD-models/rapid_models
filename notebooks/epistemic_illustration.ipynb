{
 "cells": [
  {
   "cell_type": "code",
   "execution_count": null,
   "metadata": {},
   "outputs": [],
   "source": [
    "import numpy as np\n",
    "import scipy as sp\n",
    "import scipy.stats as stats\n",
    "import plotly\n",
    "import plotly.graph_objs as go\n",
    "\n",
    "# Import Gaussian process from scikit-learn (https://scikit-learn.org/)\n",
    "import sklearn.gaussian_process as sklgp\n",
    "import sklearn.linear_model as skllin\n",
    "\n",
    "# Import rapid_models DOE packages\n",
    "#import rapid_models.doe as doe\n",
    "#import rapid_models.doe.adaptive_learning as doe_al"
   ]
  },
  {
   "cell_type": "code",
   "execution_count": null,
   "metadata": {},
   "outputs": [],
   "source": [
    "def black_box_func(x):\n",
    "    \"\"\"A non-linear \"black box\" function used to \n",
    "    illustrate aspects of Design-of-experiments\n",
    "    \n",
    "    \"\"\"\n",
    "    return np.cos((x+0.05)*2*np.pi)"
   ]
  },
  {
   "cell_type": "code",
   "execution_count": null,
   "metadata": {},
   "outputs": [],
   "source": [
    "x=np.linspace(0,1, 100)\n",
    "y=black_box_func(x)\n",
    "s1_x=stats.uniform.rvs(loc=0.1, scale=0.3, size=30, random_state=42)\n",
    "s1_y = black_box_func(s1_x) + stats.norm.rvs(loc=0, scale=0.05, size=len(s1_x), random_state=42)\n",
    "\n",
    "s2_x=stats.uniform.rvs(loc=0.5, scale=0.5, size=5, random_state=42)\n",
    "s2_y = black_box_func(s2_x) + stats.norm.rvs(loc=0, scale=0.05, size=len(s2_x), random_state=42)"
   ]
  },
  {
   "cell_type": "code",
   "execution_count": null,
   "metadata": {},
   "outputs": [],
   "source": [
    "# Plot the result\n",
    "fig = go.FigureWidget()\n",
    "\n",
    "\n",
    "fig.add_scatter(x=x, y=y, mode='lines',\n",
    "                  line={'color':'black'},\n",
    "                  name='true function', showlegend=True)\n",
    "fig.add_scatter(x=s1_x, y=s1_y, mode='markers',\n",
    "                  marker={'symbol':'circle', 'color':'black', 'size':5},\n",
    "                  name='samples 1', showlegend=True)\n",
    "fig.add_scatter(x=s2_x, y=s2_y, mode='markers',\n",
    "                  marker={'symbol':'x', 'color':'black', 'size':5},\n",
    "                  name='samples 2', showlegend=True)\n",
    "\n",
    "#fig.update_layout(xaxis={'range':[0,1]},\n",
    "#                  yaxis={'range':[0,1]}\n",
    "#                  )\n",
    "\n",
    "fig.show()"
   ]
  },
  {
   "cell_type": "code",
   "execution_count": null,
   "metadata": {},
   "outputs": [],
   "source": [
    "def train_gp(X_train, y_train, kernel, noise=1e-10, n_restart_optimizer=5, random_state=42):\n",
    "    \"\"\"\n",
    "    Train a scikit-learn gpm\n",
    "    \n",
    "    **Parameters:**\n",
    "    X_train: training input data, array-like of shape (n_samples, n_dimensions)\n",
    "    y_train: training output data, array-like of shape (n_samples)\n",
    "    kernel:  GP kernel\n",
    "    noise:   Interpreted as the variance of additional Gaussian measurement noise on the training observations.\n",
    "             Value will be added to the diagonal of the kernel matrix\n",
    "    n_restart_optimizer: Number of restarts of the optimizer\n",
    "    random_state: Determines random number generation used to initialize the centers. Pass an int for reproducible results across multiple function calls.\n",
    "    \"\"\"\n",
    "   \n",
    "    gpm = sklgp.GaussianProcessRegressor(alpha=noise, kernel=kernel, n_restarts_optimizer=n_restart_optimizer, random_state=random_state)\n",
    "    gpm.fit(X_train, y_train)\n",
    "    return gpm"
   ]
  },
  {
   "cell_type": "code",
   "execution_count": null,
   "metadata": {},
   "outputs": [],
   "source": [
    "length_scale=1/9\n",
    "kernel = sklgp.kernels.RBF(length_scale=length_scale, length_scale_bounds=(1/10, 1/9))\n",
    "#kernel = sklgp.kernels.Matern(length_scale=length_scale, nu=5/2,length_scale_bounds=(1/10, 1/9))"
   ]
  },
  {
   "cell_type": "code",
   "execution_count": null,
   "metadata": {},
   "outputs": [],
   "source": [
    "lin_s1 = skllin.LinearRegression()\n",
    "lin_s1.fit(s1_x.reshape(-1, 1), s1_y)\n"
   ]
  },
  {
   "cell_type": "code",
   "execution_count": null,
   "metadata": {},
   "outputs": [],
   "source": [
    "gpm_s1 = train_gp(s1_x.reshape(-1, 1), s1_y.reshape(-1, 1), kernel, noise=0.05)\n",
    "gpm_s2 = train_gp(np.hstack([s1_x,s2_x]).reshape(-1, 1), np.hstack([s1_y,s2_y]).reshape(-1, 1), kernel, noise=0.02)"
   ]
  },
  {
   "cell_type": "code",
   "execution_count": null,
   "metadata": {},
   "outputs": [],
   "source": [
    "# Predict based on fitted GP\n",
    "mu_s1,std_s1 = gpm_s1.predict(x.reshape(-1,1), return_std=True)\n",
    "mu_s2,std_s2 = gpm_s2.predict(x.reshape(-1,1), return_std=True)"
   ]
  },
  {
   "cell_type": "code",
   "execution_count": null,
   "metadata": {},
   "outputs": [],
   "source": [
    "s1_ys = gpm_s1.sample_y(x.reshape(-1,1), n_samples=15)\n",
    "s2_ys = gpm_s2.sample_y(x.reshape(-1,1), n_samples=15)"
   ]
  },
  {
   "cell_type": "code",
   "execution_count": null,
   "metadata": {},
   "outputs": [],
   "source": [
    "# Plot the result\n",
    "fig = go.FigureWidget()\n",
    "\n",
    "# fig.add_scatter(x=x, y=y, mode='lines',\n",
    "#                   line={'color':'black'},\n",
    "#                   name='true function', showlegend=True)\n",
    "\n",
    "bgps2=True\n",
    "blin=False\n",
    "bs2=True\n",
    "bGP=True\n",
    "showlegend=False\n",
    "if bGP:\n",
    "  xrange=[0,1]\n",
    "  if bgps2:\n",
    "    for q in range(s2_ys.shape[2]):\n",
    "      showlegend_s=True if (q==0 and showlegend) else False\n",
    "      fig.add_scatter(x=x, y=s2_ys[:,0,q], mode='lines',\n",
    "                      line={'color':'red', 'width':0.2},\n",
    "                      name='GP samples', legendgroup='GP samples', \n",
    "                      showlegend=showlegend_s)  \n",
    "    #fig.add_scatter(x=x, y=mu_s2[:,0], mode='lines',\n",
    "    #                  line={'color':'black'},\n",
    "    #                  name='GP mean', showlegend=True)\n",
    "    fig.add_scatter(x=x, y=mu_s2[:,0]-2*std_s2, mode='lines',\n",
    "                      line={'color':'lightgray', 'width':0},\n",
    "                      name='GP-std', showlegend=showlegend)\n",
    "    fig.add_scatter(x=x, y=mu_s2[:,0]+2*std_s2, mode='lines',\n",
    "                      line={'color':'lightgray', 'width':0},\n",
    "                      name='GP+std', showlegend=showlegend, fill='tonexty')\n",
    "  else:\n",
    "    for q in range(s2_ys.shape[2]):\n",
    "      showlegend_s=True if (q==0 and showlegend) else False\n",
    "      fig.add_scatter(x=x, y=s1_ys[:,0,q], mode='lines',\n",
    "                      line={'color':'red', 'width':0.2},\n",
    "                      name='GP samples', legendgroup='GP samples', showlegend=showlegend_s)  \n",
    "    #fig.add_scatter(x=x, y=mu_s1[:,0], mode='lines',\n",
    "    #                  line={'color':'black'},\n",
    "    #                  name='GP mean', showlegend=True)\n",
    "    fig.add_scatter(x=x, y=mu_s1[:,0]-2*std_s1, mode='lines',\n",
    "                      line={'color':'lightgray', 'width':0},\n",
    "                      name='GP-std', showlegend=False)\n",
    "    fig.add_scatter(x=x, y=mu_s1[:,0]+2*std_s1, mode='lines',\n",
    "                      line={'color':'lightgray', 'width':0},\n",
    "                      name='GP+std', showlegend=showlegend, fill='tonexty')       \n",
    "else:\n",
    "  xrange=[0,0.5]\n",
    "\n",
    "if blin:\n",
    "  fig.add_scatter(x=x, y=lin_s1.predict(x.reshape(-1,1)), mode='lines',\n",
    "                    line={'color':'black'},\n",
    "                    name='Linear regression', showlegend=showlegend)\n",
    "if bs2:\n",
    "  fig.add_scatter(x=s2_x, y=s2_y, mode='markers',\n",
    "                    marker={'symbol':'cross', 'color':'black', 'size':5},\n",
    "                    name='samples 2', showlegend=False)                            \n",
    "fig.add_scatter(x=s1_x, y=s1_y, mode='markers',\n",
    "                    marker={'symbol':'circle', 'color':'black', 'size':5},\n",
    "                    name='samples 1', showlegend=showlegend)\n",
    "\n",
    "fig.update_layout(width=700, height=500,\n",
    "                  xaxis={'range':xrange, 'showticklabels':False, 'ticks':'outside', 'linecolor': 'black', 'linewidth': 1, 'mirror': True, 'showgrid':False, 'zeroline':False},\n",
    "                  yaxis={'range':[-1.2,1.2], 'showticklabels':False, 'ticks':'outside', 'linecolor': 'black', 'linewidth': 1, 'mirror': True, 'showgrid':False, 'zeroline':False},\n",
    "                  plot_bgcolor='white', paper_bgcolor='white'\n",
    "                  )\n",
    "\n",
    "fig.show()"
   ]
  },
  {
   "cell_type": "code",
   "execution_count": null,
   "metadata": {},
   "outputs": [],
   "source": []
  },
  {
   "cell_type": "code",
   "execution_count": null,
   "metadata": {},
   "outputs": [],
   "source": []
  }
 ],
 "metadata": {
  "kernelspec": {
   "display_name": "Python 3.10.2 ('.venv': venv)",
   "language": "python",
   "name": "python3"
  },
  "language_info": {
   "codemirror_mode": {
    "name": "ipython",
    "version": 3
   },
   "file_extension": ".py",
   "mimetype": "text/x-python",
   "name": "python",
   "nbconvert_exporter": "python",
   "pygments_lexer": "ipython3",
   "version": "3.10.2"
  },
  "orig_nbformat": 4,
  "vscode": {
   "interpreter": {
    "hash": "37a94fe6c21872b644e894c742197238ed8676af7dff7c9a4646e8671405b66d"
   }
  }
 },
 "nbformat": 4,
 "nbformat_minor": 2
}
