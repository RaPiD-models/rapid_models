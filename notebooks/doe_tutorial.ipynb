{
 "cells": [
  {
   "cell_type": "markdown",
   "metadata": {},
   "source": [
    "<img src=\"./static/AI_background_v4_4_960px.jpg\" width=300/>\n",
    "\n",
    "# AI and Safety\n",
    "\n",
    "A tutorial to the Design-of-experiments (DOE) presented in DNV's [AI and safety](https://ai-and-safety.dnvgl.com/#sec-doe)  position paper, implemented under the [RaPiD-models research project](https://rapid-models.dnvgl.com/)"
   ]
  },
  {
   "cell_type": "markdown",
   "metadata": {},
   "source": [
    "## import packages"
   ]
  },
  {
   "cell_type": "code",
   "execution_count": null,
   "metadata": {},
   "outputs": [],
   "source": [
    "# Load the autoreload extension\n",
    "%load_ext autoreload\n",
    "\n",
    "# Autoreload reloads modules before executing code\n",
    "# 0: disable\n",
    "# 1: reload modules imported with %aimport\n",
    "# 2: reload all modules, except those excluded by %aimport\n",
    "%autoreload 2\n",
    "!pip install rapid_models"
   ]
  },
  {
   "cell_type": "code",
   "execution_count": null,
   "metadata": {},
   "outputs": [],
   "source": [
    "import numpy as np\n",
    "import scipy as sp\n",
    "import plotly\n",
    "import plotly.graph_objs as go\n",
    "\n",
    "# Import Gaussian process from scikit-learn (https://scikit-learn.org/)\n",
    "import sklearn.gaussian_process as sklgp\n",
    "\n",
    "# Import rapid_models DOE packages\n",
    "import rapid_models.doe as doe\n",
    "import rapid_models.doe.adaptive_learning as doe_al"
   ]
  },
  {
   "cell_type": "markdown",
   "metadata": {},
   "source": [
    "## Define black-box function\n",
    "This black-box function simulate an expensive/slow process that we want to explore the response of"
   ]
  },
  {
   "cell_type": "code",
   "execution_count": null,
   "metadata": {},
   "outputs": [],
   "source": [
    "def black_box_func(x,y):\n",
    "    \"\"\"A non-linear \"black box\" function used to \n",
    "    illustrate aspects of Design-of-experiments\n",
    "    \n",
    "    \"\"\"\n",
    "    return 0.4*np.sin(x*6)*np.sin(2*y)+x*y+0.05*np.sin(7*x)+0.1*x"
   ]
  },
  {
   "cell_type": "markdown",
   "metadata": {},
   "source": [
    "## One-at-a-time (oat) exploration\n",
    "Use the One-at-a-time / full factorial function to probe the black box function at 15 locations (3 in x times 5 in y). We explore the range $ x,y\\in[0,1] $ and set the lb and ub of the points at 0.1 and 0.9\n",
    "\n"
   ]
  },
  {
   "cell_type": "code",
   "execution_count": null,
   "metadata": {},
   "outputs": [],
   "source": [
    "# Use the One-at-a-time function doe.fullfact_with_bounds() to probe the black box function at 15 locations (3 in x times 5 in y)\n",
    "LBs=[0.1,0.1]\n",
    "UBs=[0.9,0.9]\n",
    "N_xi=[3,5]\n",
    "X_oat=np.asarray(doe.fullfact_with_bounds(LBs, UBs, N_xi))\n",
    "X_oat=X_oat[X_oat[:,0].argsort()]\n",
    "y_oat=black_box_func(X_oat[:,0],X_oat[:,1])"
   ]
  },
  {
   "cell_type": "code",
   "execution_count": null,
   "metadata": {},
   "outputs": [],
   "source": [
    "# make x,y grid for plotting surfaces\n",
    "mx, my = np.mgrid[0:1:20j,0:1:20j]\n",
    "# calculate true function for surface plotting\n",
    "Xsurf=np.vstack([mx.flatten(),my.flatten()]).T\n",
    "# calculate true surface\n",
    "mz=black_box_func(mx.flatten(), my.flatten()).reshape(mx.shape)\n",
    "\n",
    "\n",
    "# Plot the result\n",
    "fig = go.FigureWidget()\n",
    "\n",
    "fig.add_surface(x=mx, y=my, z=mz, name='true function',\n",
    "                colorscale='Gray', opacity=0.5, showscale=False,\n",
    "               colorbar={'title':'std','len':0.5, 'thickness':20})\n",
    "fig.add_scatter3d(x=X_oat[:,0], y=X_oat[:,1], z=y_oat, mode='markers',\n",
    "                  marker={'symbol':'circle', 'color':'black', 'size':3},\n",
    "                  name='OAT obs', showlegend=True)\n",
    "\n",
    "fig.update_layout(scene={'xaxis':{'range':[0,1]},\n",
    "                         'yaxis':{'range':[0,1]},\n",
    "                         'zaxis':{'range':[0,1]},\n",
    "                         'aspectratio':{'x':1,'y':1,'z':1},\n",
    "                         'camera':{\n",
    "                            'eye':{'x':-0.7, 'y':-2., 'z':0.3}}\n",
    "                        })\n",
    "\n",
    "fig.show()"
   ]
  },
  {
   "cell_type": "markdown",
   "metadata": {},
   "source": [
    "Train a Gaussian Process regression model\n",
    "Use Scikit-learn's Gausian Process (GP) regressor to train a GP model based on the above observations\n",
    "\n",
    "[https://scikit-learn.org/stable/modules/generated/sklearn.gaussian_process.GaussianProcessRegressor.html#sklearn.gaussian_process.GaussianProcessRegressor](https://scikit-learn.org/stable/modules/generated/sklearn.gaussian_process.GaussianProcessRegressor.html#sklearn.gaussian_process.GaussianProcessRegressor)\n",
    "\n",
    "and select a Matérn 5/2 kernel with a prior isotropic lengthscale of 30% of the range (i.e. 0.1)\n",
    "\n",
    "[https://scikit-learn.org/stable/modules/generated/sklearn.gaussian_process.kernels.Matern.html#sklearn.gaussian_process.kernels.Matern](https://scikit-learn.org/stable/modules/generated/sklearn.gaussian_process.kernels.Matern.html#sklearn.gaussian_process.kernels.Matern)"
   ]
  },
  {
   "cell_type": "markdown",
   "metadata": {},
   "source": []
  },
  {
   "cell_type": "code",
   "execution_count": null,
   "metadata": {},
   "outputs": [],
   "source": [
    "length_scale=1/3\n",
    "kernel = sklgp.kernels.RBF(length_scale=length_scale)#sklgp.kernels.Matern(length_scale=length_scale, nu=5/2)"
   ]
  },
  {
   "cell_type": "code",
   "execution_count": null,
   "metadata": {},
   "outputs": [],
   "source": [
    "def train_gp(X_train, y_train, kernel, noise=1e-10, n_restart_optimizer=5, random_state=42):\n",
    "    \"\"\"\n",
    "    Train a scikit-learn gpm\n",
    "    \n",
    "    **Parameters:**\n",
    "    X_train: training input data, array-like of shape (n_samples, n_dimensions)\n",
    "    y_train: training output data, array-like of shape (n_samples)\n",
    "    kernel:  GP kernel\n",
    "    noise:   Interpreted as the variance of additional Gaussian measurement noise on the training observations.\n",
    "             Value will be added to the diagonal of the kernel matrix\n",
    "    n_restart_optimizer: Number of restarts of the optimizer\n",
    "    random_state: Determines random number generation used to initialize the centers. Pass an int for reproducible results across multiple function calls.\n",
    "    \"\"\"\n",
    "   \n",
    "    gpm = sklgp.GaussianProcessRegressor(alpha=noise, kernel=kernel, n_restarts_optimizer=n_restart_optimizer, random_state=random_state)\n",
    "    gpm.fit(X_train, y_train)\n",
    "    return gpm\n",
    "  "
   ]
  },
  {
   "cell_type": "code",
   "execution_count": null,
   "metadata": {},
   "outputs": [],
   "source": [
    "# Train gpm on oat data\n",
    "gpm_oat = train_gp(X_oat, y_oat, kernel)\n",
    "\n",
    "# Predict surface based on fitted GP\n",
    "mu_oat,std_oat = gpm_oat.predict(Xsurf, return_std=True)\n",
    "\n",
    "# Plot the result\n",
    "fig = go.FigureWidget()\n",
    "\n",
    "fig.add_surface(x=mx, y=my, z=mu_oat.reshape(mx.shape), name='GP oat',\n",
    "                colorscale='Reds', surfacecolor=std_oat.reshape(mx.shape), opacity=0.5, showscale=True,\n",
    "               colorbar={'title':'std','len':0.5, 'thickness':20})\n",
    "\n",
    "fig.add_scatter3d(x=X_oat[:,0], y=X_oat[:,1], z=y_oat, mode='markers',\n",
    "                  marker={'symbol':'circle', 'color':'red', 'size':3},\n",
    "                  name='OAT obs', showlegend=True)\n",
    "\n",
    "# update layout to set view\n",
    "fig.update_layout(\n",
    "                  scene={'xaxis':{'range':[0,1]},\n",
    "                         'yaxis':{'range':[0,1]},\n",
    "                         'zaxis':{'range':[0,1]},\n",
    "                         'aspectratio':{'x':1,'y':1,'z':1},\n",
    "                         'camera':{\n",
    "                            'eye':{'x':-0.7, 'y':-2., 'z':0.3}}\n",
    "                        })\n",
    "\n",
    "fig.show()"
   ]
  },
  {
   "cell_type": "markdown",
   "metadata": {},
   "source": [
    "## Latin-Hypercube\n",
    "Use the rapid_models.doe package to create a latin-hypercube sample set of 15 samples in 2 dimensions. (The lhs function is based on the pyDOE2 package with documentation of methods at [https://pythonhosted.org/pyDOE/](https://pythonhosted.org/pyDOE/)"
   ]
  },
  {
   "cell_type": "code",
   "execution_count": null,
   "metadata": {},
   "outputs": [],
   "source": [
    "LBs=[0.0,0.0]\n",
    "UBs=[1.0,1.0]\n",
    "X_lhs = doe.lhs_with_bounds(2, 15, LBs, UBs)\n",
    "y_lhs = black_box_func(X_lhs[:,0],X_lhs[:,1])"
   ]
  },
  {
   "cell_type": "code",
   "execution_count": null,
   "metadata": {},
   "outputs": [],
   "source": [
    "# Train gpm on oat data\n",
    "gpm_lhs = train_gp(X_lhs, y_lhs, kernel)\n",
    "\n",
    "# Predict surface based on fitted GP\n",
    "mu_lhs,std_lhs = gpm_lhs.predict(Xsurf, return_std=True)\n",
    "\n",
    "# Plot the result\n",
    "fig = go.FigureWidget()\n",
    "\n",
    "fig.add_surface(x=mx, y=my, z=mu_oat.reshape(mx.shape), name='GP oat',\n",
    "                colorscale='Reds', surfacecolor=std_oat.reshape(mx.shape), opacity=0.5, showscale=False,\n",
    "               colorbar={'title':'std','len':0.5, 'thickness':20})\n",
    "\n",
    "fig.add_surface(x=mx, y=my, z=mu_lhs.reshape(mx.shape), name='GP lhs',\n",
    "                colorscale='Oranges', surfacecolor=std_lhs.reshape(mx.shape), opacity=0.5, showscale=True,\n",
    "               colorbar={'title':'std','len':0.5, 'thickness':20})\n",
    "\n",
    "fig.add_scatter3d(x=X_oat[:,0], y=X_oat[:,1], z=y_oat, mode='markers',\n",
    "                  marker={'symbol':'circle', 'color':'red', 'size':2},\n",
    "                  name='OAT obs', showlegend=True)\n",
    "\n",
    "fig.add_scatter3d(x=X_lhs[:,0], y=X_lhs[:,1], z=y_lhs, mode='markers',\n",
    "                  marker={'symbol':'circle', 'color':'orange', 'size':3},\n",
    "                  name='LHS obs', showlegend=True)\n",
    "\n",
    "# update layout to set view\n",
    "fig.update_layout(\n",
    "                  scene={'xaxis':{'range':[0,1]},\n",
    "                         'yaxis':{'range':[0,1]},\n",
    "                         'zaxis':{'range':[0,1]},\n",
    "                         'aspectratio':{'x':1,'y':1,'z':1},\n",
    "                         'camera':{\n",
    "                            'eye':{'x':-0.7, 'y':-2., 'z':0.3}}\n",
    "                        })\n",
    "\n",
    "fig.show()"
   ]
  },
  {
   "cell_type": "markdown",
   "metadata": {},
   "source": [
    "## Adaptive learning - reducing local uncertainty"
   ]
  },
  {
   "cell_type": "code",
   "execution_count": null,
   "metadata": {},
   "outputs": [],
   "source": [
    "n_init=5\n",
    "X_init=doe.lhs_with_bounds(2, n_init, LBs, UBs)\n",
    "y_init=black_box_func(X_init[:,0],X_init[:,1])\n",
    "\n",
    "# train initial GP to initial observations\n",
    "gpm_al1 = train_gp(X_init, y_init, kernel)\n",
    "\n",
    "# large sample to explore objective function\n",
    "X = doe.lhs_with_bounds(2, 1000, LBs, UBs)\n",
    "    \n",
    "n_AL_iterations=10\n",
    "X_al1=None\n",
    "y_al1=None\n",
    "for q in range(n_AL_iterations):\n",
    "      \n",
    "    # predict output for the large sample to explore the objective function\n",
    "    mu,std = gpm_al1.predict(X, return_std=True) \n",
    "    \n",
    "    # select ixs where the objective function is to select the point with the highest predicted std\n",
    "    ixs, _ = doe_al.AL_McKay92_idx(std, nNew=1)\n",
    "    \n",
    "    # add selected X[ixs] to the X_al1 \n",
    "    if X_al1 is None:\n",
    "        X_al1=X[ixs]\n",
    "    else:\n",
    "        X_al1=np.concatenate([X_al1, X[ixs]])\n",
    "    \n",
    "    # observe black-box-function at selected input\n",
    "    if y_al1 is None:\n",
    "        y_al1 = black_box_func(X[ixs,0],X[ixs,1])\n",
    "    else:\n",
    "        y_al1 = np.concatenate([y_al1,black_box_func(X[ixs,0],X[ixs,1])])\n",
    "        \n",
    "    # train model on initial and adaptivly selected inputs\n",
    "    gpm_al1 = train_gp(np.concatenate([X_init, X_al1]), np.concatenate([y_init, y_al1]), kernel)"
   ]
  },
  {
   "cell_type": "code",
   "execution_count": null,
   "metadata": {},
   "outputs": [],
   "source": [
    "std.shape"
   ]
  },
  {
   "cell_type": "code",
   "execution_count": null,
   "metadata": {},
   "outputs": [],
   "source": [
    "# Predict surface based on fitted GP\n",
    "mu_al1,std_al1 = gpm_al1.predict(Xsurf, return_std=True)\n",
    "\n",
    "# Plot the result\n",
    "fig = go.FigureWidget()\n",
    "\n",
    "# fig.add_surface(x=mx, y=my, z=mu_oat.reshape(mx.shape), name='GP oat',\n",
    "#                 colorscale='Reds', surfacecolor=std_oat.reshape(mx.shape), opacity=0.5, showscale=False,\n",
    "#                colorbar={'title':'std','len':0.5, 'thickness':20})\n",
    "\n",
    "fig.add_surface(x=mx, y=my, z=mu_lhs.reshape(mx.shape), name='GP lhs',\n",
    "                colorscale='Oranges', surfacecolor=std_lhs.reshape(mx.shape), opacity=0.5, showscale=False,\n",
    "               colorbar={'title':'std','len':0.5, 'thickness':20})\n",
    "\n",
    "fig.add_surface(x=mx, y=my, z=mu_al1.reshape(mx.shape), name='GP al1',\n",
    "                colorscale='Blues', surfacecolor=std_al1.reshape(mx.shape), opacity=0.5, showscale=True,\n",
    "               colorbar={'title':'std','len':0.5, 'thickness':20})\n",
    "\n",
    "# fig.add_scatter3d(x=X_oat[:,0], y=X_oat[:,1], z=y_oat, mode='markers',\n",
    "#                   marker={'symbol':'circle', 'color':'red', 'size':2},\n",
    "#                   name='OAT obs', showlegend=True)\n",
    "\n",
    "fig.add_scatter3d(x=X_lhs[:,0], y=X_lhs[:,1], z=y_lhs, mode='markers',\n",
    "                  marker={'symbol':'circle', 'color':'orange', 'size':2},\n",
    "                  name='LHS obs', showlegend=True)\n",
    "\n",
    "fig.add_scatter3d(x=X_init[:,0], y=X_init[:,1], z=y_init, mode='markers',\n",
    "                  marker={'symbol':'circle', 'color':'black', 'size':3},\n",
    "                  name='LHS init obs', showlegend=True)\n",
    "\n",
    "fig.add_scatter3d(x=X_al1[:,0], y=X_al1[:,1], z=y_al1, mode='markers',\n",
    "                  marker={'symbol':'circle', 'color':'blue', 'size':3},\n",
    "                  name='al1 obs', showlegend=True)\n",
    "\n",
    "\n",
    "# update layout to set view\n",
    "fig.update_layout(\n",
    "                  scene={'xaxis':{'range':[0,1]},\n",
    "                         'yaxis':{'range':[0,1]},\n",
    "                         'zaxis':{'range':[0,1]},\n",
    "                         'aspectratio':{'x':1,'y':1,'z':1},\n",
    "                         'camera':{\n",
    "                            'eye':{'x':-0.7, 'y':-2., 'z':0.3}}\n",
    "                        })\n",
    "\n",
    "fig.show()"
   ]
  },
  {
   "cell_type": "markdown",
   "metadata": {},
   "source": [
    "## Adaptive learning - reducing global uncertainty"
   ]
  },
  {
   "cell_type": "code",
   "execution_count": null,
   "metadata": {},
   "outputs": [],
   "source": [
    "# train initial GP to initial observations\n",
    "gpm_al2 = train_gp(X_init, y_init, kernel)\n",
    "ker_func = gpm_al2.kernel.__call__ #sklgp.kernels.RBF(length_scale=0.1)\n",
    "\n",
    "# large sample to explore objective function\n",
    "X = doe.lhs_with_bounds(2, 1000, LBs, UBs)\n",
    "  \n",
    "n_AL_iterations=10\n",
    "X_al2=None\n",
    "y_al2=None\n",
    "for q in range(n_AL_iterations):\n",
    "      \n",
    "    # predict output for the large sample to explore the objective function\n",
    "    mu,std = gpm_al2.predict(X, return_std=True) \n",
    "    \n",
    "    # select ixs where the objective function is to select the point with the highest predicted std\n",
    "    ixs, _ = doe_al.AL_Cohn96_idx(kernel_fn=ker_func, X_train=gpm_al2.X_train_, X_lhs=X)\n",
    "    \n",
    "    # add selected X[ixs] to the X_al1 \n",
    "    if X_al2 is None:\n",
    "        X_al2=X[ixs]\n",
    "    else:\n",
    "        X_al2=np.concatenate([X_al2, X[ixs]])\n",
    "    \n",
    "    # observe black-box-function at selected input\n",
    "    if y_al2 is None:\n",
    "        y_al2 = black_box_func(X[ixs,0],X[ixs,1])\n",
    "    else:\n",
    "        y_al2 = np.concatenate([y_al2,black_box_func(X[ixs,0],X[ixs,1])])\n",
    "        \n",
    "        \n",
    "    # train model on initial and adaptivly selected inputs\n",
    "    gpm_al2 = train_gp(np.concatenate([X_init, X_al2]), np.concatenate([y_init, y_al2]), kernel)"
   ]
  },
  {
   "cell_type": "code",
   "execution_count": null,
   "metadata": {},
   "outputs": [],
   "source": [
    "# Predict surface based on fitted GP\n",
    "mu_al2,std_al2 = gpm_al2.predict(Xsurf, return_std=True)\n",
    "\n",
    "# Plot the result\n",
    "fig = go.FigureWidget()\n",
    "\n",
    "fig.add_surface(x=mx, y=my, z=mz, name='true function',\n",
    "                colorscale='Gray', opacity=0.5, showscale=False,\n",
    "               colorbar={'title':'std','len':0.5, 'thickness':20})\n",
    "\n",
    "# fig.add_surface(x=mx, y=my, z=mu_oat.reshape(mx.shape), name='GP oat',\n",
    "#                 colorscale='Oranges', surfacecolor=std_oat.reshape(mx.shape), opacity=0.5, showscale=False,\n",
    "#                colorbar={'title':'std','len':0.5, 'thickness':20})\n",
    "\n",
    "# fig.add_surface(x=mx, y=my, z=mu_lhs.reshape(mx.shape), name='GP lhs',\n",
    "#                 colorscale='Blues', surfacecolor=std_lhs.reshape(mx.shape), opacity=0.5, showscale=True,\n",
    "#                colorbar={'title':'std','len':0.5, 'thickness':20})\n",
    "\n",
    "fig.add_surface(x=mx, y=my, z=mu_al2.reshape(mx.shape), name='GP al2',\n",
    "                colorscale='Purples', surfacecolor=std_al2.reshape(mx.shape), opacity=0.5, showscale=True,\n",
    "               colorbar={'title':'std','len':0.5, 'thickness':20})\n",
    "\n",
    "# fig.add_scatter3d(x=X_oat[:,0], y=X_oat[:,1], z=y_oat, mode='markers',\n",
    "#                   marker={'symbol':'circle', 'color':'black', 'size':2},\n",
    "#                   name='OAT obs', showlegend=True)\n",
    "\n",
    "# fig.add_scatter3d(x=X_lhs[:,0], y=X_lhs[:,1], z=y_lhs, mode='markers',\n",
    "#                   marker={'symbol':'circle', 'color':'blue', 'size':2},\n",
    "#                   name='LHS obs', showlegend=True)\n",
    "\n",
    "fig.add_scatter3d(x=X_init[:,0], y=X_init[:,1], z=y_init, mode='markers',\n",
    "                  marker={'symbol':'circle', 'color':'black', 'size':3},\n",
    "                  name='LHS init obs', showlegend=True)\n",
    "\n",
    "fig.add_scatter3d(x=X_al2[:,0], y=X_al2[:,1], z=y_al2, mode='markers',\n",
    "                  marker={'symbol':'circle', 'color':'purple', 'size':3},\n",
    "                  name='al1 obs', showlegend=True)\n",
    "\n",
    "# update layout to set view\n",
    "fig.update_layout(\n",
    "                  scene={'xaxis':{'range':[0,1]},\n",
    "                         'yaxis':{'range':[0,1]},\n",
    "                         #'zaxis':{'range':[0,1]},\n",
    "                         'aspectratio':{'x':1,'y':1,'z':1.2},\n",
    "                         'camera':{\n",
    "                            'eye':{'x':-0.7, 'y':-2., 'z':0.3}}\n",
    "                        })\n",
    "\n",
    "fig.show()"
   ]
  },
  {
   "cell_type": "code",
   "execution_count": null,
   "metadata": {},
   "outputs": [],
   "source": [
    "X_lhs.shape"
   ]
  },
  {
   "cell_type": "code",
   "execution_count": null,
   "metadata": {},
   "outputs": [],
   "source": []
  }
 ],
 "metadata": {
  "kernelspec": {
   "display_name": "Python 3.10.2 ('.venv': venv)",
   "language": "python",
   "name": "python3"
  },
  "language_info": {
   "codemirror_mode": {
    "name": "ipython",
    "version": 3
   },
   "file_extension": ".py",
   "mimetype": "text/x-python",
   "name": "python",
   "nbconvert_exporter": "python",
   "pygments_lexer": "ipython3",
   "version": "3.10.2"
  },
  "orig_nbformat": 4,
  "vscode": {
   "interpreter": {
    "hash": "37a94fe6c21872b644e894c742197238ed8676af7dff7c9a4646e8671405b66d"
   }
  }
 },
 "nbformat": 4,
 "nbformat_minor": 2
}
