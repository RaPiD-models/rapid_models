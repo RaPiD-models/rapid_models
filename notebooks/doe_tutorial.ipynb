{
 "cells": [
  {
   "cell_type": "markdown",
   "metadata": {},
   "source": [
    "<img src=\"./static/AI_background_v4_4_960px.jpg\" width=300/>\n",
    "\n",
    "# AI and Safety\n",
    "\n",
    "A tutorial to the Design-of-experiments (DOE) presented in DNV's [AI and safety](https://ai-and-safety.dnvgl.com/#sec-doe)  position paper, implemented under the [RaPiD-models research project](https://rapid-models.dnvgl.com/)"
   ]
  },
  {
   "cell_type": "markdown",
   "metadata": {},
   "source": [
    "## import packages"
   ]
  },
  {
   "cell_type": "code",
   "execution_count": 1,
   "metadata": {},
   "outputs": [
    {
     "ename": "ModuleNotFoundError",
     "evalue": "No module named 'sklearn'",
     "output_type": "error",
     "traceback": [
      "\u001b[1;31m---------------------------------------------------------------------------\u001b[0m",
      "\u001b[1;31mModuleNotFoundError\u001b[0m                       Traceback (most recent call last)",
      "\u001b[1;32m~\\AppData\\Local\\Temp/ipykernel_19180/2669176277.py\u001b[0m in \u001b[0;36m<module>\u001b[1;34m\u001b[0m\n\u001b[0;32m      5\u001b[0m \u001b[1;33m\u001b[0m\u001b[0m\n\u001b[0;32m      6\u001b[0m \u001b[1;31m# Import Gaussian process from scikit-learn (https://scikit-learn.org/)\u001b[0m\u001b[1;33m\u001b[0m\u001b[1;33m\u001b[0m\u001b[1;33m\u001b[0m\u001b[0m\n\u001b[1;32m----> 7\u001b[1;33m \u001b[1;32mimport\u001b[0m \u001b[0msklearn\u001b[0m\u001b[1;33m.\u001b[0m\u001b[0mgaussian_process\u001b[0m \u001b[1;32mas\u001b[0m \u001b[0msklgp\u001b[0m\u001b[1;33m\u001b[0m\u001b[1;33m\u001b[0m\u001b[0m\n\u001b[0m\u001b[0;32m      8\u001b[0m \u001b[1;33m\u001b[0m\u001b[0m\n\u001b[0;32m      9\u001b[0m \u001b[1;31m# Import rapid_models DOE packages\u001b[0m\u001b[1;33m\u001b[0m\u001b[1;33m\u001b[0m\u001b[1;33m\u001b[0m\u001b[0m\n",
      "\u001b[1;31mModuleNotFoundError\u001b[0m: No module named 'sklearn'"
     ]
    }
   ],
   "source": [
    "import numpy as np\n",
    "import scipy as sp\n",
    "import plotly\n",
    "import plotly.graph_objs as go\n",
    "\n",
    "# Import Gaussian process from scikit-learn (https://scikit-learn.org/)\n",
    "import sklearn.gaussian_process as sklgp\n",
    "\n",
    "# Import rapid_models DOE packages\n",
    "import rapid_models.doe as doe\n",
    "import rapid_models.doe.adaptive_learning as doe_al"
   ]
  },
  {
   "cell_type": "markdown",
   "metadata": {},
   "source": [
    "## Define black-box function\n",
    "This black-box function simulate an expensive/slow process that we want to explore the response of"
   ]
  },
  {
   "cell_type": "code",
   "execution_count": null,
   "metadata": {},
   "outputs": [],
   "source": [
    "def black_box_func(x,y):\n",
    "    \"\"\"A non-linear \"black box\" function used to \n",
    "    illustrate aspects of Design-of-experiments\n",
    "    \n",
    "    \"\"\"\n",
    "    return 0.4*np.sin(x*6)*np.sin(2*y)+x*y+0.05*np.sin(7*x)+0.1*x"
   ]
  },
  {
   "cell_type": "markdown",
   "metadata": {},
   "source": []
  }
 ],
 "metadata": {
  "interpreter": {
   "hash": "d56933113f0a68bae4e07b41a4ddeee2ef36c87a3fd8e121505162822ba9d043"
  },
  "kernelspec": {
   "display_name": "Python 3.8.7 64-bit ('env': venv)",
   "language": "python",
   "name": "python3"
  },
  "language_info": {
   "codemirror_mode": {
    "name": "ipython",
    "version": 3
   },
   "file_extension": ".py",
   "mimetype": "text/x-python",
   "name": "python",
   "nbconvert_exporter": "python",
   "pygments_lexer": "ipython3",
   "version": "3.8.7"
  },
  "orig_nbformat": 4
 },
 "nbformat": 4,
 "nbformat_minor": 2
}
